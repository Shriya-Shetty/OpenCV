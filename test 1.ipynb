{
 "cells": [
  {
   "cell_type": "code",
   "execution_count": null,
   "id": "a47b129d-35e9-42b3-8c39-2f5e7f9fdf77",
   "metadata": {},
   "outputs": [
    {
     "ename": "",
     "evalue": "",
     "output_type": "error",
     "traceback": [
      "\u001b[1;31mRunning cells with 'Python 3.10.9' requires the ipykernel package.\n",
      "\u001b[1;31mRun the following command to install 'ipykernel' into the Python environment. \n",
      "\u001b[1;31mCommand: 'c:/Users/Shriya/AppData/Local/Programs/Python/Python310/python.exe -m pip install ipykernel -U --user --force-reinstall'"
     ]
    }
   ],
   "source": [
    "import sys\n",
    "sys.version"
   ]
  },
  {
   "cell_type": "code",
   "execution_count": null,
   "id": "85661602-6525-4258-8a34-aafb7bcdb6f1",
   "metadata": {},
   "outputs": [],
   "source": [
    "#python -v"
   ]
  },
  {
   "cell_type": "code",
   "execution_count": 3,
   "id": "26fa7e5d-940b-4319-b682-527aaeab2aef",
   "metadata": {},
   "outputs": [
    {
     "name": "stdout",
     "output_type": "stream",
     "text": [
      "OpenCv version= 4.10.0\n"
     ]
    }
   ],
   "source": [
    "import cv2\n",
    "print('OpenCv version=',cv2.__version__)"
   ]
  },
  {
   "cell_type": "code",
   "execution_count": 4,
   "id": "27dcea2c-307a-4655-8b0d-e0f5b2951a21",
   "metadata": {},
   "outputs": [
    {
     "name": "stdout",
     "output_type": "stream",
     "text": [
      "OpenCv version= 1.26.4\n"
     ]
    }
   ],
   "source": [
    "import numpy\n",
    "print('OpenCv version=',numpy.__version__)"
   ]
  },
  {
   "cell_type": "code",
   "execution_count": 5,
   "id": "42592886-89cb-48dc-9d96-38124f8acf1e",
   "metadata": {},
   "outputs": [
    {
     "name": "stdout",
     "output_type": "stream",
     "text": [
      "OpenCv version= 2.2.3\n"
     ]
    }
   ],
   "source": [
    "import pandas\n",
    "print('OpenCv version=',pandas.__version__)"
   ]
  },
  {
   "cell_type": "code",
   "execution_count": 6,
   "id": "f7d02071-5abc-4c24-9961-442eb14ba530",
   "metadata": {},
   "outputs": [
    {
     "name": "stdout",
     "output_type": "stream",
     "text": [
      "OpenCv version= 3.9.2\n"
     ]
    }
   ],
   "source": [
    "import matplotlib\n",
    "print('OpenCv version=',matplotlib.__version__)"
   ]
  },
  {
   "cell_type": "code",
   "execution_count": null,
   "id": "787b3660-2b5e-40c6-ac70-1e432fc33835",
   "metadata": {},
   "outputs": [],
   "source": [
    "import cv2\n",
    "print('OpenCv version=',cv2.__version__)"
   ]
  }
 ],
 "metadata": {
  "kernelspec": {
   "display_name": "Python 3",
   "language": "python",
   "name": "python3"
  },
  "language_info": {
   "codemirror_mode": {
    "name": "ipython",
    "version": 3
   },
   "file_extension": ".py",
   "mimetype": "text/x-python",
   "name": "python",
   "nbconvert_exporter": "python",
   "pygments_lexer": "ipython3",
   "version": "3.10.9"
  }
 },
 "nbformat": 4,
 "nbformat_minor": 5
}
