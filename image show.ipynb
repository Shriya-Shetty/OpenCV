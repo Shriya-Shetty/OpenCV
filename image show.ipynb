{
 "cells": [
  {
   "cell_type": "code",
   "execution_count": 1,
   "id": "0c2a9593-375d-47e5-8a8b-09182b259c8e",
   "metadata": {},
   "outputs": [
    {
     "ename": "ModuleNotFoundError",
     "evalue": "No module named 'cv2'",
     "output_type": "error",
     "traceback": [
      "\u001b[1;31m---------------------------------------------------------------------------\u001b[0m",
      "\u001b[1;31mModuleNotFoundError\u001b[0m                       Traceback (most recent call last)",
      "Cell \u001b[1;32mIn[1], line 1\u001b[0m\n\u001b[1;32m----> 1\u001b[0m \u001b[38;5;28;01mimport\u001b[39;00m \u001b[38;5;21;01mcv2\u001b[39;00m\n",
      "\u001b[1;31mModuleNotFoundError\u001b[0m: No module named 'cv2'"
     ]
    }
   ],
   "source": [
    "import cv2"
   ]
  },
  {
   "cell_type": "code",
   "execution_count": null,
   "id": "2d1d17c2-b20f-40eb-b47f-e1715b018fb1",
   "metadata": {},
   "outputs": [],
   "source": [
    "path=r\"\"\"C:\\Users\\Shriya\\OpenCV\\00 opencv_tutorial\\images\"\"\"\n",
    "img_name=\"L.jpg\"\n",
    "\n",
    "img=cv2.imread(path+'//'+img_name)\n",
    "\n",
    "cv2.imshow('Image',img)\n",
    "\n",
    "cv2.waitKey(0)\n",
    "\n",
    "cv2.destroyAllWindows()"
   ]
  },
  {
   "cell_type": "code",
   "execution_count": null,
   "id": "c52c8b8c-ecbd-41e9-a0e0-8d472cc8aefe",
   "metadata": {},
   "outputs": [],
   "source": [
    "img=cv2.imread(path+'//'+img_name)\n",
    "\n",
    "img=cv2.resize(img,(600,400))\n",
    "\n",
    "cv2.imshow('Image',img)\n",
    "\n",
    "cv2.waitKey(0)\n",
    "\n",
    "cv2.destroyAllWindows()"
   ]
  },
  {
   "cell_type": "code",
   "execution_count": null,
   "id": "b72320ba-8506-4dcb-8628-0eec458e8616",
   "metadata": {},
   "outputs": [],
   "source": [
    "import os"
   ]
  },
  {
   "cell_type": "code",
   "execution_count": null,
   "id": "2732e2bb-6e7c-42ae-a0fb-47408f52c90a",
   "metadata": {},
   "outputs": [],
   "source": [
    "img_names=os.listdir('images')\n",
    "img_names"
   ]
  },
  {
   "cell_type": "code",
   "execution_count": null,
   "id": "99646a5e-863d-4973-afd1-7bca1bb6522f",
   "metadata": {},
   "outputs": [],
   "source": [
    "path=r\"\"\"C:\\Users\\Shriya\\OpenCV\\00 opencv_tutorial\\images//\"\"\"\n",
    "for image in images:\n",
    "    image_path=path+image\n",
    "    img=cv2.imread(image_path)\n",
    "    img=cv2.resize(img,(600,400))\n",
    "\n",
    "    cv2.imshow('Image',img)\n",
    "\n",
    "    cv2.waitKey(0.5)\n",
    "\n",
    "cv2.destroyAllWindows()"
   ]
  },
  {
   "cell_type": "code",
   "execution_count": null,
   "id": "730a2618-2d48-41e2-b49e-7090e9ec700f",
   "metadata": {},
   "outputs": [],
   "source": [
    "import numpy as np\n",
    "path=r\"\"\"C:\\Users\\Shriya\\OpenCV\\00 opencv_tutorial\\images//\"\"\"\n",
    "for image in img_names:\n",
    "    image_path=path+image\n",
    "    \n",
    "    img=cv2.imread(image_path)\n",
    "    img=cv2.resize(img,(300,200))\n",
    "\n",
    "    img_2=np.hstack((img,img))\n",
    "    img_4=np.vstack((img_2,img_2))\n",
    "\n",
    "    cv2.imshow('4 Image',img_4)\n",
    "\n",
    "    cv2.waitKey(0)\n",
    "\n",
    "cv2.destroyAllWindows()"
   ]
  },
  {
   "cell_type": "code",
   "execution_count": null,
   "id": "c31a06e2-bbc0-4387-b297-c108a01f9937",
   "metadata": {},
   "outputs": [],
   "source": []
  }
 ],
 "metadata": {
  "kernelspec": {
   "display_name": "base",
   "language": "python",
   "name": "python3"
  },
  "language_info": {
   "codemirror_mode": {
    "name": "ipython",
    "version": 3
   },
   "file_extension": ".py",
   "mimetype": "text/x-python",
   "name": "python",
   "nbconvert_exporter": "python",
   "pygments_lexer": "ipython3",
   "version": "3.12.7"
  }
 },
 "nbformat": 4,
 "nbformat_minor": 5
}
